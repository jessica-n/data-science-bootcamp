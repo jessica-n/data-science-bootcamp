{
 "cells": [
  {
   "cell_type": "code",
   "execution_count": 1,
   "metadata": {},
   "outputs": [],
   "source": [
    "import numpy as np\n",
    "import pandas as pd\n",
    "import scipy\n",
    "import matplotlib.pyplot as plt\n",
    "%matplotlib inline"
   ]
  },
  {
   "cell_type": "code",
   "execution_count": 9,
   "metadata": {},
   "outputs": [
    {
     "data": {
      "image/png": "[encoded data removed]",
      "text/plain": [
       "<matplotlib.figure.Figure at 0x1149beda0>"
      ]
     },
     "metadata": {},
     "output_type": "display_data"
    }
   ],
   "source": [
    "#two random binomial distributions with different p-values\n",
    "pop1 = np.random.binomial(10, 0.2, 10000)\n",
    "pop2 = np.random.binomial(10,0.5, 10000) \n",
    "\n",
    "plt.hist(pop1, alpha=0.5, label='Population 1') \n",
    "plt.hist(pop2, alpha=0.5, label='Population 2') \n",
    "plt.legend(loc='upper right') \n",
    "plt.show()"
   ]
  },
  {
   "cell_type": "code",
   "execution_count": 20,
   "metadata": {
    "scrolled": true
   },
   "outputs": [
    {
     "name": "stdout",
     "output_type": "stream",
     "text": [
      "Original sample size = 100.\n",
      "\n",
      "Mean of sample1 = 1.76\n",
      "Mean of sample2 = 4.93\n",
      "Standard Deviation of sample1 = 1.055241845993303\n",
      "Standard Deviation of sample2 = 1.6468825769380833\n",
      "\n",
      "Incrase sample size to 1000.\n",
      "\n",
      "Mean of sample1 = 1.994\n",
      "Mean of sample2 = 5.032\n",
      "Standard Deviation of sample1 = 1.2269757411902933\n",
      "Standard Deviation of sample2 = 1.6521821042807923\n",
      "\n",
      "Decrease sample size to 20.\n",
      "\n",
      "Mean of sample1 = 2.0\n",
      "Mean of sample2 = 4.45\n",
      "Standard Deviation of sample1 = 1.4509525002200232\n",
      "Standard Deviation of sample2 = 1.8202082009311031\n",
      "\n",
      "Means tend to change very little, but there is a bigger change for standard deviations.\n"
     ]
    }
   ],
   "source": [
    "print(\"Original sample size = 100.\\n\")\n",
    "sample1 = np.random.choice(pop1, 100, replace=True)\n",
    "sample2 = np.random.choice(pop2, 100, replace=True)\n",
    "\n",
    "mean1 = np.mean(sample1)\n",
    "mean2 = np.mean(sample2)\n",
    "\n",
    "standard_deviation1 = np.std(sample1, ddof = 1)\n",
    "standard_deviation2 = np.std(sample2, ddof = 1)\n",
    "\n",
    "print(\"Mean of sample1 = {}\".format(mean1))\n",
    "print(\"Mean of sample2 = {}\".format(mean2))\n",
    "print(\"Standard Deviation of sample1 = {}\".format(standard_deviation1))\n",
    "print(\"Standard Deviation of sample2 = {}\\n\".format(standard_deviation2))\n",
    "\n",
    "#Edit Sizes of Samples\n",
    "\n",
    "print(\"Incrase sample size to 1000.\\n\")\n",
    "sample1 = np.random.choice(pop1, 1000, replace=True)\n",
    "sample2 = np.random.choice(pop2, 1000, replace=True)\n",
    "\n",
    "mean1 = np.mean(sample1)\n",
    "mean2 = np.mean(sample2)\n",
    "\n",
    "standard_deviation1 = np.std(sample1, ddof = 1)\n",
    "standard_deviation2 = np.std(sample2, ddof = 1)\n",
    "\n",
    "print(\"Mean of sample1 = {}\".format(mean1))\n",
    "print(\"Mean of sample2 = {}\".format(mean2))\n",
    "print(\"Standard Deviation of sample1 = {}\".format(standard_deviation1))\n",
    "print(\"Standard Deviation of sample2 = {}\\n\".format(standard_deviation2))\n",
    "\n",
    "print(\"Decrease sample size to 20.\\n\")\n",
    "sample1 = np.random.choice(pop1, 20, replace=True)\n",
    "sample2 = np.random.choice(pop2, 20, replace=True)\n",
    "\n",
    "mean1 = np.mean(sample1)\n",
    "mean2 = np.mean(sample2)\n",
    "\n",
    "standard_deviation1 = np.std(sample1, ddof = 1)\n",
    "standard_deviation2 = np.std(sample2, ddof = 1)\n",
    "\n",
    "print(\"Mean of sample1 = {}\".format(mean1))\n",
    "print(\"Mean of sample2 = {}\".format(mean2))\n",
    "print(\"Standard Deviation of sample1 = {}\".format(standard_deviation1))\n",
    "print(\"Standard Deviation of sample2 = {}\".format(standard_deviation2))\n",
    "\n",
    "print(\"\\nMeans tend to change very little, but there is a bigger change for standard deviations.\")"
   ]
  },
  {
   "cell_type": "code",
   "execution_count": 25,
   "metadata": {},
   "outputs": [
    {
     "name": "stdout",
     "output_type": "stream",
     "text": [
      "Change p of Pop1 to .3.\n",
      "\n",
      "Ttest_indResult(statistic=8.878266176043233, pvalue=4.10807720123663e-16)\n",
      "\n",
      "Change p of Pop1 to .4.\n",
      "\n",
      "Ttest_indResult(statistic=4.853886493786029, pvalue=2.470870782964337e-06)\n",
      "\n",
      "The t-value decreases as you increase the p-value.\n"
     ]
    }
   ],
   "source": [
    "#Change p\n",
    "print(\"Change p of Pop1 to .3.\\n\")\n",
    "pop1 = np.random.binomial(10, 0.3, 10000)\n",
    "pop2 = np.random.binomial(10,0.5, 10000) \n",
    "\n",
    "sample1 = np.random.choice(pop1, 100, replace=True)\n",
    "sample2 = np.random.choice(pop2, 100, replace=True)\n",
    "\n",
    "from scipy.stats import ttest_ind\n",
    "print(ttest_ind(sample2, sample1, equal_var=False))\n",
    "\n",
    "print(\"\\nChange p of Pop1 to .4.\\n\")\n",
    "pop1 = np.random.binomial(10, 0.4, 10000)\n",
    "pop2 = np.random.binomial(10,0.5, 10000) \n",
    "\n",
    "sample1 = np.random.choice(pop1, 100, replace=True)\n",
    "sample2 = np.random.choice(pop2, 100, replace=True)\n",
    "\n",
    "from scipy.stats import ttest_ind\n",
    "print(ttest_ind(sample2, sample1, equal_var=False))\n",
    "\n",
    "print(\"\\nThe t-value decreases as you increase the p-value.\")"
   ]
  },
  {
   "cell_type": "code",
   "execution_count": 28,
   "metadata": {},
   "outputs": [
    {
     "name": "stdout",
     "output_type": "stream",
     "text": [
      "Original sample size = 100.\n",
      "\n",
      "Mean of sample1 = 4.78\n",
      "Mean of sample2 = 1.98\n",
      "Standard Deviation of sample1 = 4.53177335013234\n",
      "Standard Deviation of sample2 = 1.5306960191462913\n",
      "\n",
      "Ttest_indResult(statistic=-5.853694070049636, pvalue=4.193062604117381e-08)\n"
     ]
    }
   ],
   "source": [
    "pop1 = np.random.geometric(p=0.2, size = 10000)\n",
    "pop2 = np.random.geometric(p=0.5, size = 10000)\n",
    "\n",
    "print(\"Original sample size = 100.\\n\")\n",
    "sample1 = np.random.choice(pop1, 100, replace=True)\n",
    "sample2 = np.random.choice(pop2, 100, replace=True)\n",
    "\n",
    "mean1 = np.mean(sample1)\n",
    "mean2 = np.mean(sample2)\n",
    "\n",
    "standard_deviation1 = np.std(sample1, ddof = 1)\n",
    "standard_deviation2 = np.std(sample2, ddof = 1)\n",
    "\n",
    "print(\"Mean of sample1 = {}\".format(mean1))\n",
    "print(\"Mean of sample2 = {}\".format(mean2))\n",
    "print(\"Standard Deviation of sample1 = {}\".format(standard_deviation1))\n",
    "print(\"Standard Deviation of sample2 = {}\\n\".format(standard_deviation2))\n",
    "\n",
    "print(ttest_ind(sample2, sample1, equal_var=False))"
   ]
  },
  {
   "cell_type": "markdown",
   "metadata": {},
   "source": [
    "Due to the large p-value, we cannot reject the null hypothesis that the statistic differs significantly between samples, meaning that the sample means still accurately represent population values."
   ]
  }
 ],
 "metadata": {
  "kernelspec": {
   "display_name": "Python 3",
   "language": "python",
   "name": "python3"
  },
  "language_info": {
   "codemirror_mode": {
    "name": "ipython",
    "version": 3
   },
   "file_extension": ".py",
   "mimetype": "text/x-python",
   "name": "python",
   "nbconvert_exporter": "python",
   "pygments_lexer": "ipython3",
   "version": "3.6.4"
  }
 },
 "nbformat": 4,
 "nbformat_minor": 2
}
