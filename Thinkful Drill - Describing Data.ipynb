{
 "cells": [
  {
   "cell_type": "markdown",
   "metadata": {},
   "source": [
    "# Thinkful Drill - Describing Data\n",
    "\n",
    "1) Looking for the mean, median and mode; variance, standard deviation and standard error of ages."
   ]
  },
  {
   "cell_type": "code",
   "execution_count": 41,
   "metadata": {},
   "outputs": [
    {
     "name": "stdout",
     "output_type": "stream",
     "text": [
      "The mean of ages is 9.714285714285714.\n",
      "The median of ages is 10.0.\n",
      "There is no mode.\n",
      "The variance of ages is 7.061224489795918.\n",
      "The standard deviation of ages is 2.8702082220799308.\n",
      "The standard error of ages is 1.084836738085192.\n"
     ]
    }
   ],
   "source": [
    "import pandas as pd\n",
    "import numpy as np\n",
    "import statistics\n",
    "import matplotlib.pyplot as plt\n",
    "%matplotlib inline\n",
    "\n",
    "#Make a blank data frame for the data.\n",
    "df = pd.DataFrame()\n",
    "\n",
    "#Populate the dataframe with data from the problem.\n",
    "df['age']= [14, 12, 11, 10, 8, 6, 7]\n",
    "\n",
    "#Use NumPy to find the mean.\n",
    "mean = np.mean(df['age'])\n",
    "print('The mean of ages is {}.'.format(mean))\n",
    "\n",
    "#Use NumPy to find the median.\n",
    "median = np.median(df['age'])\n",
    "print('The median of ages is {}.'.format(median))\n",
    "\n",
    "#Use statistics module to find the mode.\n",
    "try: \n",
    "    statistics.mode(df['age']) \n",
    "except statistics.StatisticsError:\n",
    "    print('There is no mode.')\n",
    "\n",
    "#no unique mode\n",
    "\n",
    "#Genderate a list of unique elements along with how often they occur.\n",
    "#(values, counts) = np.unique(df['age'], return_counts=True)\n",
    "#The location in the values list of the most frequently occuring element.\n",
    "#ind = np.argmax(counts)\n",
    "#The most frequent element - will only return first mode.\n",
    "#mode = values[ind]\n",
    "\n",
    "#Use Numpy to find the variance.\n",
    "variance = np.var(df['age'])\n",
    "print('The variance of ages is {}.'.format(variance))\n",
    "\n",
    "#Use NumPy to find the standard deviation.\n",
    "standard_deviation = np.std(df['age'], ddof = 1)\n",
    "print('The standard deviation of ages is {}.'.format(standard_deviation))\n",
    "\n",
    "#Use NumPy to find the standard error.\n",
    "standard_error = np.std(df['age'], ddof = 1) / np.sqrt(len(df['age']))\n",
    "print('The standard error of ages is {}.'.format(standard_error))"
   ]
  },
  {
   "cell_type": "markdown",
   "metadata": {},
   "source": [
    "I'll throw in some graphs for fun (and practice)."
   ]
  },
  {
   "cell_type": "code",
   "execution_count": 42,
   "metadata": {},
   "outputs": [
    {
     "data": {
      "text/plain": [
       "<function matplotlib.pyplot.show>"
      ]
     },
     "execution_count": 42,
     "metadata": {},
     "output_type": "execute_result"
    },
    {
     "data": {
      "image/png": "[encoded data removed]",
      "text/plain": [
       "<matplotlib.figure.Figure at 0x26d06221828>"
      ]
     },
     "metadata": {},
     "output_type": "display_data"
    }
   ],
   "source": [
    "#horizontal boxplot\n",
    "plt.boxplot(df['age'], 0, 'rs', 0)\n",
    "plt.show"
   ]
  },
  {
   "cell_type": "code",
   "execution_count": 43,
   "metadata": {},
   "outputs": [
    {
     "data": {
      "text/plain": [
       "<function matplotlib.pyplot.show>"
      ]
     },
     "execution_count": 43,
     "metadata": {},
     "output_type": "execute_result"
    },
    {
     "data": {
      "image/png": "[encoded data removed]",
      "text/plain": [
       "<matplotlib.figure.Figure at 0x26d062f37f0>"
      ]
     },
     "metadata": {},
     "output_type": "display_data"
    }
   ],
   "source": [
    "#histogram\n",
    "plt.hist(df['age'])\n",
    "plt.show"
   ]
  },
  {
   "cell_type": "markdown",
   "metadata": {},
   "source": [
    "2) If I had to choose only one estimate of central tendency and one estimate of variance, I would choose:\n",
    "\n",
    "Central Tendency: I would select the mean since the data does not look strongly skewed.\n",
    "\n",
    "Variance: For this data, I would use the standard deviation since it is in the same units as the original values.\n",
    "\n",
    "3) Cindy had a birthday and turned 7."
   ]
  },
  {
   "cell_type": "code",
   "execution_count": 44,
   "metadata": {},
   "outputs": [
    {
     "name": "stdout",
     "output_type": "stream",
     "text": [
      "The mean of ages is 9.857142857142858.\n",
      "The median of ages is 10.0.\n",
      "The mode of ages is 7.\n",
      "The variance of ages is 6.122448979591836.\n",
      "The standard deviation of ages is 2.6726124191242437.\n",
      "The standard error of ages is 1.0101525445522106.\n"
     ]
    }
   ],
   "source": [
    "#Cindy turned 7.\n",
    "\n",
    "#Make a blank data frame for the data.\n",
    "df = pd.DataFrame()\n",
    "\n",
    "#Populate the dataframe with data from the problem.\n",
    "df['age']= [14, 12, 11, 10, 8, 7, 7]\n",
    "\n",
    "#Use NumPy to find the mean.\n",
    "mean = np.mean(df['age'])\n",
    "print('The mean of ages is {}.'.format(mean))\n",
    "\n",
    "#Use NumPy to find the median.\n",
    "median = np.median(df['age'])\n",
    "print('The median of ages is {}.'.format(median))\n",
    "\n",
    "#Use statistics module to find the mode.\n",
    "try: \n",
    "    mode = statistics.mode(df['age'])\n",
    "    print('The mode of ages is {}.'.format(mode))\n",
    "except statistics.StatisticsError:\n",
    "    print('There is no mode.')\n",
    "\n",
    "#no unique mode\n",
    "\n",
    "#Genderate a list of unique elements along with how often they occur.\n",
    "#(values, counts) = np.unique(df['age'], return_counts=True)\n",
    "#The location in the values list of the most frequently occuring element.\n",
    "#ind = np.argmax(counts)\n",
    "#The most frequent element - will only return first mode.\n",
    "#mode = values[ind]\n",
    "\n",
    "#Use Numpy to find the variance.\n",
    "variance = np.var(df['age'])\n",
    "print('The variance of ages is {}.'.format(variance))\n",
    "\n",
    "#Use NumPy to find the standard deviation.\n",
    "standard_deviation = np.std(df['age'], ddof = 1)\n",
    "print('The standard deviation of ages is {}.'.format(standard_deviation))\n",
    "\n",
    "#Use NumPy to find the standard error.\n",
    "standard_error = np.std(df['age'], ddof = 1) / np.sqrt(len(df['age']))\n",
    "print('The standard error of ages is {}.'.format(standard_error))"
   ]
  },
  {
   "cell_type": "markdown",
   "metadata": {},
   "source": [
    "More graphs to view the distribution."
   ]
  },
  {
   "cell_type": "code",
   "execution_count": 45,
   "metadata": {},
   "outputs": [
    {
     "data": {
      "text/plain": [
       "<function matplotlib.pyplot.show>"
      ]
     },
     "execution_count": 45,
     "metadata": {},
     "output_type": "execute_result"
    },
    {
     "data": {
      "image/png": "[encoded data removed]",
      "text/plain": [
       "<matplotlib.figure.Figure at 0x26d06380e80>"
      ]
     },
     "metadata": {},
     "output_type": "display_data"
    }
   ],
   "source": [
    "#regular boxplot\n",
    "plt.boxplot(df['age'])\n",
    "plt.show"
   ]
  },
  {
   "cell_type": "code",
   "execution_count": 46,
   "metadata": {},
   "outputs": [
    {
     "data": {
      "text/plain": [
       "<function matplotlib.pyplot.show>"
      ]
     },
     "execution_count": 46,
     "metadata": {},
     "output_type": "execute_result"
    },
    {
     "data": {
      "image/png": "[encoded data removed]",
      "text/plain": [
       "<matplotlib.figure.Figure at 0x26d0638c320>"
      ]
     },
     "metadata": {},
     "output_type": "display_data"
    }
   ],
   "source": [
    "#histogram\n",
    "plt.hist(df['age'])\n",
    "plt.show"
   ]
  },
  {
   "cell_type": "markdown",
   "metadata": {},
   "source": [
    "In 1)\n",
    "The mean of ages is 9.714285714285714.\n",
    "The median of ages is 10.0.\n",
    "There is no mode.\n",
    "The variance of ages is 7.061224489795918.\n",
    "The standard deviation of ages is 2.8702082220799308.\n",
    "The standard error of ages is 1.084836738085192.\n",
    "\n",
    "In 3) \n",
    "The mean of ages is 9.857142857142858.\n",
    "The median of ages is 10.0.\n",
    "The mode of ages is 7.\n",
    "The variance of ages is 6.122448979591836.\n",
    "The standard deviation of ages is 2.6726124191242437.\n",
    "The standard error of ages is 1.0101525445522106.\n",
    "\n",
    "There is an increase in: mean.\n",
    "There is a decrease in: variance, standard deviation, standard error, meaning that there is less variability in the data.\n",
    "There is now a mode.\n",
    "The median has stayed the same.\n",
    "\n",
    "The median may be the better estimate of central tendency now due to the slight skew.\n",
    "\n",
    "4) Poor Cousin Oliver gets replaced."
   ]
  },
  {
   "cell_type": "code",
   "execution_count": 47,
   "metadata": {},
   "outputs": [
    {
     "name": "stdout",
     "output_type": "stream",
     "text": [
      "The mean of ages is 8.857142857142858.\n",
      "The median of ages is 10.0.\n",
      "The mode of ages is 7.\n",
      "The variance of ages is 15.83673469387755.\n",
      "The standard deviation of ages is 4.29839394148448.\n",
      "The standard error of ages is 1.6246402008792364.\n"
     ]
    }
   ],
   "source": [
    "#Replace 8 with 1.\n",
    "\n",
    "#Make a blank data frame for the data.\n",
    "df = pd.DataFrame()\n",
    "\n",
    "#Populate the dataframe with data from the problem.\n",
    "df['age']= [14, 12, 11, 10, 1, 7, 7]\n",
    "\n",
    "#Use NumPy to find the mean.\n",
    "mean = np.mean(df['age'])\n",
    "print('The mean of ages is {}.'.format(mean))\n",
    "\n",
    "#Use NumPy to find the median.\n",
    "median = np.median(df['age'])\n",
    "print('The median of ages is {}.'.format(median))\n",
    "\n",
    "#Use statistics module to find the mode.\n",
    "try: \n",
    "    mode = statistics.mode(df['age'])\n",
    "    print('The mode of ages is {}.'.format(mode))\n",
    "except statistics.StatisticsError:\n",
    "    print('There is no mode.')\n",
    "\n",
    "#no unique mode\n",
    "\n",
    "#Genderate a list of unique elements along with how often they occur.\n",
    "#(values, counts) = np.unique(df['age'], return_counts=True)\n",
    "#The location in the values list of the most frequently occuring element.\n",
    "#ind = np.argmax(counts)\n",
    "#The most frequent element - will only return first mode.\n",
    "#mode = values[ind]\n",
    "\n",
    "#Use Numpy to find the variance.\n",
    "variance = np.var(df['age'])\n",
    "print('The variance of ages is {}.'.format(variance))\n",
    "\n",
    "#Use NumPy to find the standard deviation.\n",
    "standard_deviation = np.std(df['age'], ddof = 1)\n",
    "print('The standard deviation of ages is {}.'.format(standard_deviation))\n",
    "\n",
    "#Use NumPy to find the standard error.\n",
    "standard_error = np.std(df['age'], ddof = 1) / np.sqrt(len(df['age']))\n",
    "print('The standard error of ages is {}.'.format(standard_error))"
   ]
  },
  {
   "cell_type": "markdown",
   "metadata": {},
   "source": [
    "Even more graphs"
   ]
  },
  {
   "cell_type": "code",
   "execution_count": 48,
   "metadata": {},
   "outputs": [
    {
     "data": {
      "text/plain": [
       "<function matplotlib.pyplot.show>"
      ]
     },
     "execution_count": 48,
     "metadata": {},
     "output_type": "execute_result"
    },
    {
     "data": {
      "image/png": "[encoded data removed]",
      "text/plain": [
       "<matplotlib.figure.Figure at 0x26d063e2ba8>"
      ]
     },
     "metadata": {},
     "output_type": "display_data"
    }
   ],
   "source": [
    "#regular boxplot\n",
    "plt.boxplot(df['age'])\n",
    "plt.show"
   ]
  },
  {
   "cell_type": "code",
   "execution_count": 49,
   "metadata": {},
   "outputs": [
    {
     "data": {
      "text/plain": [
       "<function matplotlib.pyplot.show>"
      ]
     },
     "execution_count": 49,
     "metadata": {},
     "output_type": "execute_result"
    },
    {
     "data": {
      "image/png": "[encoded data removed]",
      "text/plain": [
       "<matplotlib.figure.Figure at 0x26d062f3e48>"
      ]
     },
     "metadata": {},
     "output_type": "display_data"
    }
   ],
   "source": [
    "#histogram\n",
    "plt.hist(df['age'])\n",
    "plt.show"
   ]
  },
  {
   "cell_type": "markdown",
   "metadata": {},
   "source": [
    "There is more of a skew; therefore, median is definitely the best measure of central tendency.\n",
    "\n",
    "5) Based on these numbers, I would not be able to estimate the percentage of adult Americans who were Brady Bunch fans. This seems to be a biased sample, as the sample would only include readers of these four difference magazines."
   ]
  }
 ],
 "metadata": {
  "kernelspec": {
   "display_name": "Python 3",
   "language": "python",
   "name": "python3"
  },
  "language_info": {
   "codemirror_mode": {
    "name": "ipython",
    "version": 3
   },
   "file_extension": ".py",
   "mimetype": "text/x-python",
   "name": "python",
   "nbconvert_exporter": "python",
   "pygments_lexer": "ipython3",
   "version": "3.6.4"
  }
 },
 "nbformat": 4,
 "nbformat_minor": 2
}
