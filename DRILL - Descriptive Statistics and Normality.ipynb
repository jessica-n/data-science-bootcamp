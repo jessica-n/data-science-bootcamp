{
 "cells": [
  {
   "cell_type": "markdown",
   "metadata": {},
   "source": [
    "# For six distributions: \n",
    "\n",
    "1) Generate a random variable with 100 datapoints using the code distributionvar = np.random.distributionname([arguments], 100), replacing distributionvar with an appropriate variable name and distributionname with the name of the distribution you’ve chosen, and filling in the empty space in the parentheses with your chosen values for the appropriate parameters. If you feel uncertain about how to do this, go back to the “Other Distributions” assignment for examples of code to use as a starting point.\n",
    "\n",
    "2) Graph the variable using a histogram.\n",
    "\n",
    "3) Compute the mean and standard deviation and plot them as vertical lines on the histogram. (Hint: the “When Does It Break?” assignment you just completed can help you here.)\n",
    "\n",
    "4) Evaluate whether the descriptive statistics provided useful information about the variable. Can you identify any common characteristics of the distributions that could be usefully described using the mean and/or standard deviation, versus the ones that could not?\n",
    "\n",
    "Additionally:\n",
    "\n",
    "1) Generate two normally-distributed variables, one with a mean of 5 and standard deviation of 0.5, and the other with a mean of 10 and standard deviation of 1.\n",
    "\n",
    "2) Add them together to create a third variable.\n",
    "\n",
    "3) Graph the third variable using a histogram.\n",
    "\n",
    "4) Compute the mean and standard deviation and plot them as vertical lines on the histogram.\n",
    "\n",
    "5) Evaluate the descriptive statistics against the data."
   ]
  },
  {
   "cell_type": "markdown",
   "metadata": {},
   "source": [
    "## 1) Logistic Distribution"
   ]
  },
  {
   "cell_type": "code",
   "execution_count": 2,
   "metadata": {},
   "outputs": [],
   "source": [
    "import numpy as np\n",
    "import pandas as pd\n",
    "import matplotlib.pyplot as plt\n",
    "%matplotlib inline"
   ]
  },
  {
   "cell_type": "code",
   "execution_count": 18,
   "metadata": {},
   "outputs": [
    {
     "data": {
      "image/png": "[encoded data removed]",
      "text/plain": [
       "<matplotlib.figure.Figure at 0x1f3f9087780>"
      ]
     },
     "metadata": {},
     "output_type": "display_data"
    },
    {
     "name": "stdout",
     "output_type": "stream",
     "text": [
      "Mean = 0.004349669824223586\n",
      "Standard Deviation = 1.5901992145351695\n",
      "\n",
      "With the exception of the outlier, th emean and standard deviation still provide useful information about the distribution.\n"
     ]
    }
   ],
   "source": [
    "#Distribution 1\n",
    "#Generate a logistic distribution with size = 100.\n",
    "logistic= np.random.logistic(loc=0.0, scale=1.0, size=100)\n",
    "\n",
    "#Plot a histogram.\n",
    "plt.hist(logistic)\n",
    "\n",
    "#Add a vertical line at the mean.\n",
    "plt.axvline(logistic.mean(), color='red', linestyle='solid', linewidth=2)\n",
    "\n",
    "#Add a vertical line at one standard deviation above the mean.\n",
    "plt.axvline(logistic.mean() + logistic.std(), color='red', linestyle='dashed', linewidth=2)\n",
    "\n",
    "#Add a vertical line at one standard deviation below the mean.\n",
    "plt.axvline(logistic.mean()- logistic.std(), color='red', linestyle='dashed', linewidth=2) \n",
    "\n",
    "#Print the histogram\n",
    "plt.show()\n",
    "\n",
    "mean = np.mean(logistic)\n",
    "print(\"Mean = {}\".format(mean))\n",
    "standard_deviation = np.std(logistic, ddof = 1)\n",
    "print(\"Standard Deviation = {}\".format(standard_deviation))\n",
    "\n",
    "print(\"\\nWith the exception of the outlier, the mean and standard deviation still provide useful information about the distribution.\")"
   ]
  },
  {
   "cell_type": "markdown",
   "metadata": {},
   "source": [
    "## 2) Poisson Distribution"
   ]
  },
  {
   "cell_type": "code",
   "execution_count": 19,
   "metadata": {},
   "outputs": [
    {
     "data": {
      "image/png": "[encoded data removed]",
      "text/plain": [
       "<matplotlib.figure.Figure at 0x1f3f9011630>"
      ]
     },
     "metadata": {},
     "output_type": "display_data"
    },
    {
     "name": "stdout",
     "output_type": "stream",
     "text": [
      "Mean = 0.99\n",
      "Standard Deviation = 0.9265445744727279\n",
      "\n",
      "The data does not follow a normal distribution, so the mean and standard deviation will not provide useful information about the distribution.\n"
     ]
    }
   ],
   "source": [
    "#Distribution 2\n",
    "#Generate a poisson distribution with size = 100.\n",
    "poisson= np.random.poisson(lam=1.0, size=100)\n",
    "\n",
    "#Plot a histogram.\n",
    "plt.hist(poisson)\n",
    "\n",
    "#Add a vertical line at the mean.\n",
    "plt.axvline(poisson.mean(), color='red', linestyle='solid', linewidth=2)\n",
    "\n",
    "#Add a vertical line at one standard deviation above the mean.\n",
    "plt.axvline(poisson.mean() + poisson.std(), color='red', linestyle='dashed', linewidth=2)\n",
    "\n",
    "#Add a vertical line at one standard deviation below the mean.\n",
    "plt.axvline(poisson.mean()- poisson.std(), color='red', linestyle='dashed', linewidth=2) \n",
    "\n",
    "#Print the histogram\n",
    "plt.show()\n",
    "\n",
    "mean = np.mean(poisson)\n",
    "print(\"Mean = {}\".format(mean))\n",
    "standard_deviation = np.std(poisson, ddof = 1)\n",
    "print(\"Standard Deviation = {}\".format(standard_deviation))\n",
    "\n",
    "print(\"\\nThe data does not follow a normal distribution, so the mean and standard deviation will not provide useful information about the distribution.\")"
   ]
  },
  {
   "cell_type": "markdown",
   "metadata": {},
   "source": [
    "## 3)  Chi Square Distribution"
   ]
  },
  {
   "cell_type": "code",
   "execution_count": null,
   "metadata": {},
   "outputs": [],
   "source": [
    "#Distribution 3\n",
    "#Generate a chi square distribution with size = 100.\n",
    "chisquare = np.random.chisquare(df = 101, size=100)\n",
    "\n",
    "#Plot a histogram.\n",
    "plt.hist(chisquare)\n",
    "\n",
    "#Add a vertical line at the mean.\n",
    "plt.axvline(chisquare.mean(), color='red', linestyle='solid', linewidth=2)\n",
    "\n",
    "#Add a vertical line at one standard deviation above the mean.\n",
    "plt.axvline(poisson.mean() + poisson.std(), color='red', linestyle='dashed', linewidth=2)\n",
    "\n",
    "#Add a vertical line at one standard deviation below the mean.\n",
    "plt.axvline(poisson.mean()- poisson.std(), color='red', linestyle='dashed', linewidth=2) \n",
    "\n",
    "#Print the histogram\n",
    "plt.show()\n",
    "\n",
    "mean = np.mean(poisson)\n",
    "print(\"Mean = {}\".format(mean))\n",
    "standard_deviation = np.std(poisson, ddof = 1)\n",
    "print(\"Standard Deviation = {}\".format(standard_deviation))\n",
    "\n",
    "print(\"\\nThe data does not follow a normal distribution, so the mean and standard deviation will not provide useful information about the distribution.\")"
   ]
  }
 ],
 "metadata": {
  "kernelspec": {
   "display_name": "Python 3",
   "language": "python",
   "name": "python3"
  },
  "language_info": {
   "codemirror_mode": {
    "name": "ipython",
    "version": 3
   },
   "file_extension": ".py",
   "mimetype": "text/x-python",
   "name": "python",
   "nbconvert_exporter": "python",
   "pygments_lexer": "ipython3",
   "version": "3.6.4"
  }
 },
 "nbformat": 4,
 "nbformat_minor": 2
}
